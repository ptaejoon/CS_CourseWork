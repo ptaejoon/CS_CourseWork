{
 "cells": [
  {
   "cell_type": "markdown",
   "metadata": {},
   "source": [
    "# k-Nearest Neighbor (kNN) assignment"
   ]
  },
  {
   "cell_type": "code",
   "execution_count": 1,
   "metadata": {},
   "outputs": [],
   "source": [
    "import numpy as np\n",
    "import matplotlib.pyplot as plt"
   ]
  },
  {
   "cell_type": "markdown",
   "metadata": {},
   "source": [
    "# Mnist dataset 불러오기"
   ]
  },
  {
   "cell_type": "code",
   "execution_count": 2,
   "metadata": {},
   "outputs": [
    {
     "name": "stdout",
     "output_type": "stream",
     "text": [
      "(10000, 784)\n",
      "(1000, 784)\n",
      "(10000,)\n",
      "(1000,)\n"
     ]
    }
   ],
   "source": [
    "from sklearn.datasets import fetch_openml\n",
    "\n",
    "# load mnist data\n",
    "mnist_data = fetch_openml('mnist_784')\n",
    "X_data = mnist_data.data\n",
    "Y_data = mnist_data.target.astype('int32')\n",
    "\n",
    "# shuffling data\n",
    "shuffle_mask = np.arange(X_data.shape[0])\n",
    "np.random.shuffle(shuffle_mask)\n",
    "X_data = X_data[shuffle_mask]\n",
    "Y_data = Y_data[shuffle_mask]\n",
    "\n",
    "# divide data : train, test data\n",
    "X_train = X_data[:10000]\n",
    "X_test = X_data[10000:11000]\n",
    "Y_train = Y_data[:10000]\n",
    "Y_test = Y_data[10000:11000]\n",
    "\n",
    "print(X_train.shape)\n",
    "print(X_test.shape)\n",
    "print(Y_train.shape)\n",
    "print(Y_test.shape)"
   ]
  },
  {
   "cell_type": "markdown",
   "metadata": {},
   "source": [
    "# Mnist 이미지 출력"
   ]
  },
  {
   "cell_type": "code",
   "execution_count": 3,
   "metadata": {},
   "outputs": [
    {
     "data": {
      "image/png": "[encoded data removed]",
      "text/plain": [
       "<Figure size 432x288 with 20 Axes>"
      ]
     },
     "metadata": {},
     "output_type": "display_data"
    }
   ],
   "source": [
    "sample_X = X_train[:20]\n",
    "sample_Y = Y_train[:20]\n",
    "\n",
    "fig = plt.figure()\n",
    "fig.subplots_adjust(left=0, bottom=0, right=1, top=1, wspace=1, hspace=1)\n",
    "for i in range(20):\n",
    "    subplot = fig.add_subplot(4, 5, i+1)\n",
    "    subplot.set_xticks([])\n",
    "    subplot.set_yticks([])\n",
    "    subplot.set_title('%d'%sample_Y[i])\n",
    "    subplot.imshow(sample_X[i].reshape(28,28), cmap=plt.cm.gray_r)\n",
    "plt.show()"
   ]
  },
  {
   "cell_type": "markdown",
   "metadata": {},
   "source": [
    "# # Problem 1 (10 pts)\n",
    "Test data(X_test)와 training data(X_train) 사이의 거리를 ***for loop를 두번 사용하여*** distance matrix(dist_mat)에 저장한 후 dist_mat을 return 하는 함수를 작성하시오.\n",
    "- distance matrix(dist_mat) : numpy array of shape (test data 수, train data 수). (dist_mat[i,j] : i번째 test data와 j번째 train data 사이의 거리)\n",
    "- 거리는 L2 distance로 구할 것."
   ]
  },
  {
   "cell_type": "code",
   "execution_count": 4,
   "metadata": {},
   "outputs": [],
   "source": [
    "def Problem_1(X_test, X_train):\n",
    "   \n",
    "    test_num = X_test.shape[0]\n",
    "    train_num = X_train.shape[0]\n",
    "    dist_mat = np.zeros((test_num, train_num))\n",
    "    \n",
    "    for i in range(test_num):\n",
    "        for j in range(train_num):\n",
    "            ############# Put your code here ################\n",
    "            dist_mat[i][j] = np.sqrt(np.sum((X_test[i]-X_train[j]) * (X_test[i]-X_train[j])))\n",
    "            #################################################\n",
    "    return dist_mat"
   ]
  },
  {
   "cell_type": "markdown",
   "metadata": {},
   "source": [
    "# # Problem 2 (20 pts)\n",
    "Test data(X_test)와 training data(X_train) 사이의 거리를 ***for loop를 사용하지 않고 numpy 연산만을 이용하여*** distance matrix(dist_mat)에 저장한 후 dist_mat을 return 하는 함수를 작성하시오.\n",
    "- L2 distance로 거리를 구할 것."
   ]
  },
  {
   "cell_type": "code",
   "execution_count": 5,
   "metadata": {},
   "outputs": [],
   "source": [
    "def Problem_2(X_test, X_train):\n",
    "    test_num = X_test.shape[0]\n",
    "    train_num = X_train.shape[0]\n",
    "    dist_mat = np.zeros((test_num, train_num))\n",
    "    ############# Put your code here ################\n",
    "    dist_mat = np.sqrt(np.tile(np.sum(X_test*X_test,axis=1),(train_num,1)).T+np.tile(np.sum(X_train*X_train,axis=1),(test_num,1))-2*np.dot(X_test,X_train.T))\n",
    "    #################################################        \n",
    "    return dist_mat"
   ]
  },
  {
   "cell_type": "markdown",
   "metadata": {},
   "source": [
    "# # Problem 3 (10 pts)\n",
    "time 라이브러리를 이용하여 Problem_1, Problem_2 함수의 실행시간(초)을 측정한 후 비교하고, 두 함수에서 계산된 distance matrix가 같은 matrix임을 보이시오."
   ]
  },
  {
   "cell_type": "code",
   "execution_count": 11,
   "metadata": {},
   "outputs": [
    {
     "name": "stdout",
     "output_type": "stream",
     "text": [
      "Problem1 (two for loop) execution time : 145.113271\n",
      "Problem2 (no for loop) execution time : 0.694144\n",
      "The distance matrices are the same\n"
     ]
    }
   ],
   "source": [
    "import time\n",
    "\n",
    "dist_mat_two_loop = None\n",
    "dist_mat_no_loop = None\n",
    "problem1_time = None\n",
    "problem2_time = None\n",
    "\n",
    "############# Put your code here ################\n",
    "start = time.time()\n",
    "dist_mat_two_loop = Problem_1(X_test,X_train)\n",
    "end_prob1 = time.time()\n",
    "dist_mat_no_loop = Problem_2(X_test,X_train)\n",
    "end_prob2 = time.time()\n",
    "problem1_time = end_prob1 - start\n",
    "problem2_time = end_prob2 - end_prob1            \n",
    "#################################################   \n",
    "\n",
    "#print(dist_mat_no_loop[0])\n",
    "print('Problem1 (two for loop) execution time : %f'%problem1_time)\n",
    "print('Problem2 (no for loop) execution time : %f'%problem2_time)\n",
    "\n",
    "difference = np.linalg.norm(dist_mat_two_loop - dist_mat_no_loop, ord='fro')\n",
    "if difference < 0.001:\n",
    "    print('The distance matrices are the same')\n",
    "else:\n",
    "    print('The distance matrices are different')"
   ]
  },
  {
   "cell_type": "markdown",
   "metadata": {},
   "source": [
    "# # Problem 4 (10 pts)\n",
    "KNN 알고리즘으로 test 데이터의 label 값을 예측하여 return 해주는 함수를 만들고, 실제 label 값과 비교하여 예측의 정확도를 구하시오.\n",
    "- 위에서 구한 distance matrix를 이용.\n",
    "- k = 3"
   ]
  },
  {
   "cell_type": "code",
   "execution_count": 12,
   "metadata": {},
   "outputs": [
    {
     "name": "stdout",
     "output_type": "stream",
     "text": [
      "Test data prediction accuracy : 95.600000\n"
     ]
    }
   ],
   "source": [
    "def Problem_4(dist_mat, k, Y_train):\n",
    "    \n",
    "    test_num = dist_mat.shape[0]\n",
    "    Y_predict = np.zeros(test_num)\n",
    "\n",
    "    for i in range(test_num):\n",
    "        ############# Put your code here ################\n",
    "        label = np.zeros(10)\n",
    "        idx = np.argsort(dist_mat[i])[:k]\n",
    "        for j in idx:\n",
    "            label[Y_train[j]] += 1\n",
    "        Y_predict[i] = label.argmax()\n",
    "        \n",
    "        #################################################   \n",
    "    return Y_predict\n",
    "\n",
    "y_pred = Problem_4(dist_mat_no_loop, 3, Y_train)\n",
    "accuracy = None\n",
    "############# Put your code here ################\n",
    "accuracy = np.sum(y_pred == Y_test)/y_pred.shape[0]*100\n",
    "#################################################\n",
    "print('Test data prediction accuracy : %f'%accuracy)"
   ]
  },
  {
   "cell_type": "markdown",
   "metadata": {},
   "source": [
    "# # Problem 5 (20 pts)\n",
    "training 데이터를 split 하여, 5 fold cross validation을 수행하고 최적의 hyper parameter K 를 찾으시오. 또한, cross validation 기법을 사용하는 이유를 조사한 후 간단히 서술하시오.\n",
    "- numpy 외 다른 라이브러리 사용 금지.\n",
    "- 위에서 정의한 함수들 이용.\n",
    "- k_candidate list에 hyper parameter k 후보들을 저장. ex) k_candidate = [3, 5, 7, 10, 15]\n",
    "- accuracy_dict[x]에 k = x 일때 5개의 validation accuracy 저장. ex) print(accuracy_dict[3]) -> [70.01, 68.93, 54.412, 65.643, 68.85]\n",
    "- https://www.youtube.com/watch?v=OoUX-nOEjG0&list=PLC1qU-LWwrF64f4QKQT-Vg5Wr4qEE1Zxk&index=2 28분30초~39분30초 참고."
   ]
  },
  {
   "cell_type": "markdown",
   "metadata": {},
   "source": [
    "Cross validation 사용 이유 : Training set이 적은 데이터셋에서 Training Data에 Overfitting 되는 것을 방지하기 위해서 K fold로 나눈 데이터셋에서 한 개를 제외한 다른 training set으로 학습시키고, hyperparameter를 조정하는데 남은 한 개의 데이터셋을 사용한다. 이 방식을 나눈 모든 block에 대해 수행한다.\n"
   ]
  },
  {
   "cell_type": "code",
   "execution_count": 13,
   "metadata": {},
   "outputs": [
    {
     "data": {
      "image/png": "[encoded data removed]",
      "text/plain": [
       "<Figure size 432x288 with 1 Axes>"
      ]
     },
     "metadata": {
      "needs_background": "light"
     },
     "output_type": "display_data"
    }
   ],
   "source": [
    "num_fold = 5\n",
    "k_candidate = [3,5,7,11,15]\n",
    "accuracy_dict = {}\n",
    "X_train_folds = []\n",
    "Y_train_folds = []\n",
    "for k in k_candidate:\n",
    "    accuracy_dict[k] = []\n",
    "\n",
    "############# Put your code here ################\n",
    "X_train_folds = np.split(X_train,num_fold)\n",
    "Y_train_folds = np.split(Y_train,num_fold)\n",
    "#################################################\n",
    "for i in range(num_fold):\n",
    "    ############# Put your code here ################\n",
    "    X_val = X_train_folds[i]\n",
    "    Y_val = Y_train_folds[i]\n",
    "    X_cv_train = np.delete(X_train,np.s_[i*2000 :(i+1)*2000],axis=0)\n",
    "    Y_cv_train = np.delete(Y_train,np.s_[i*2000 :(i+1)*2000],axis=0)\n",
    "    dist = Problem_2(X_val,X_cv_train)\n",
    "    #################################################\n",
    "    for k in k_candidate:\n",
    "        ############# Put your code here ################\n",
    "        y_pred = Problem_4(dist, k, Y_cv_train)\n",
    "        accuracy_dict[k].append(np.sum(y_pred == Y_val)/Y_val.shape[0]*100)\n",
    "        #################################################   \n",
    "                \n",
    "for k in k_candidate:\n",
    "    accuracies = accuracy_dict[k]\n",
    "    plt.scatter([k] * len(accuracies), accuracies)\n",
    "    \n",
    "accuracies_mean = np.array([np.mean(v) for k,v in sorted(accuracy_dict.items())])\n",
    "accuracies_std = np.array([np.std(v) for k,v in sorted(accuracy_dict.items())])\n",
    "plt.errorbar(k_candidate, accuracies_mean, yerr=accuracies_std)\n",
    "plt.title('Cross-validation on k')\n",
    "plt.xlabel('k')\n",
    "plt.ylabel('Cross-validation accuracy')\n",
    "plt.show()"
   ]
  },
  {
   "cell_type": "markdown",
   "metadata": {},
   "source": [
    "# #Problem 6 (10 pts)\n",
    "Problem5 에서 구한 best hyperparameter k와 Problem4에서 작성한 함수를 이용하여 test 데이터의 label 값을 예측하고, 정확도를 구하시오."
   ]
  },
  {
   "cell_type": "code",
   "execution_count": 14,
   "metadata": {},
   "outputs": [
    {
     "name": "stdout",
     "output_type": "stream",
     "text": [
      "Test data prediction accuracy : 94.400000\n"
     ]
    }
   ],
   "source": [
    "best_k = 5 ##### Your best k ##########\n",
    "\n",
    "y_pred = Problem_4(dist_mat_no_loop, best_k, Y_train)\n",
    "accuracy = None\n",
    "############# Put your code here ################\n",
    "accuracy = np.sum(y_pred == Y_test)/Y_test.shape[0]*100            \n",
    "#################################################   \n",
    "print('Test data prediction accuracy : %f'%accuracy)"
   ]
  },
  {
   "cell_type": "markdown",
   "metadata": {},
   "source": [
    "# #Problem 7 (20 pts)\n",
    "Problem5, Problem6의 과정을 Scikit-learn 라이브러리를 이용하여 수행하시오.\n",
    "- sklearn.neighbors.KNeighborsClassifier, sklearn.model_selection.cross_val_score 함수 사용법을 구글링 해볼 것."
   ]
  },
  {
   "cell_type": "code",
   "execution_count": 15,
   "metadata": {
    "scrolled": false
   },
   "outputs": [
    {
     "data": {
      "image/png": "[encoded data removed]",
      "text/plain": [
       "<Figure size 432x288 with 1 Axes>"
      ]
     },
     "metadata": {
      "needs_background": "light"
     },
     "output_type": "display_data"
    }
   ],
   "source": [
    "from sklearn.neighbors import KNeighborsClassifier\n",
    "from sklearn.model_selection import cross_val_score\n",
    "\n",
    "k_candidate = [3,5,7,11,15]\n",
    "accuracy_dict = {}\n",
    "for k in k_candidate:\n",
    "    accuracy_dict[k] = []\n",
    "\n",
    "for k in k_candidate:\n",
    "    ############# Put your code here ################\n",
    "    KNN=KNeighborsClassifier(n_neighbors=k)\n",
    "    accuracy_dict[k] = cross_val_score(KNN,X_train,Y_train,cv=5)\n",
    "    #################################################   \n",
    "\n",
    "\n",
    "for k in k_candidate:\n",
    "    accuracies = accuracy_dict[k]\n",
    "    plt.scatter([k] * len(accuracies), accuracies)\n",
    "    \n",
    "accuracies_mean = np.array([np.mean(v) for k,v in sorted(accuracy_dict.items())])\n",
    "accuracies_std = np.array([np.std(v) for k,v in sorted(accuracy_dict.items())])\n",
    "plt.errorbar(k_candidate, accuracies_mean, yerr=accuracies_std)\n",
    "plt.title('Cross-validation on k')\n",
    "plt.xlabel('k')\n",
    "plt.ylabel('Cross-validation accuracy')\n",
    "plt.show()"
   ]
  },
  {
   "cell_type": "code",
   "execution_count": 19,
   "metadata": {},
   "outputs": [
    {
     "name": "stdout",
     "output_type": "stream",
     "text": [
      "Test data prediction accuracy : 94.400000\n"
     ]
    }
   ],
   "source": [
    "best_k = 5 ##### Your best k ##########\n",
    "\n",
    "y_pred = None\n",
    "accuracy = None\n",
    "############# Put your code here ################\n",
    "KNN=KNeighborsClassifier(n_neighbors=best_k)\n",
    "KNN.fit(X_train,Y_train)\n",
    "y_pred = KNN.predict(X_test)\n",
    "accuracy = KNN.score(X_test,Y_test)\n",
    "#################################################   \n",
    "print('Test data prediction accuracy : %f'%(accuracy*100))"
   ]
  },
  {
   "cell_type": "code",
   "execution_count": null,
   "metadata": {},
   "outputs": [],
   "source": []
  }
 ],
 "metadata": {
  "kernelspec": {
   "display_name": "Python 3",
   "language": "python",
   "name": "python3"
  },
  "language_info": {
   "codemirror_mode": {
    "name": "ipython",
    "version": 3
   },
   "file_extension": ".py",
   "mimetype": "text/x-python",
   "name": "python",
   "nbconvert_exporter": "python",
   "pygments_lexer": "ipython3",
   "version": "3.7.3"
  }
 },
 "nbformat": 4,
 "nbformat_minor": 2
}
